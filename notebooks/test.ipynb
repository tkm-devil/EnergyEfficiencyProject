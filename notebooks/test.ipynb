{
 "cells": [
  {
   "cell_type": "code",
   "execution_count": 1,
   "metadata": {},
   "outputs": [],
   "source": [
    "# to test the preprocessor and the model, we need to load them from the artifacts folder"
   ]
  },
  {
   "cell_type": "code",
   "execution_count": 2,
   "metadata": {},
   "outputs": [],
   "source": [
    "# Import the necessary packages\n",
    "import os\n",
    "import pickle\n",
    "import pandas as pd"
   ]
  },
  {
   "cell_type": "code",
   "execution_count": 4,
   "metadata": {},
   "outputs": [],
   "source": [
    "# get the current directory\n",
    "current_dir = os.getcwd()"
   ]
  },
  {
   "cell_type": "code",
   "execution_count": 5,
   "metadata": {},
   "outputs": [],
   "source": [
    "# Define the paths relative to the current directory\n",
    "preprocessor_path = os.path.join(current_dir, '..', 'artifacts', 'models', 'preprocessor.pkl')\n",
    "heating_load_model_path = os.path.join(current_dir, '..', 'artifacts', 'models', 'heating_load_model.pkl')\n",
    "cooling_load_model_path = os.path.join(current_dir, '..', 'artifacts', 'models', 'cooling_load_model.pkl')\n",
    "\n",
    "# Load the preprocessor\n",
    "with open(preprocessor_path, 'rb') as f:\n",
    "    preprocessor = pickle.load(f)\n",
    "\n",
    "# Load the models\n",
    "with open(heating_load_model_path, 'rb') as f:\n",
    "    heating_load_model = pickle.load(f)\n",
    "with open(cooling_load_model_path, 'rb') as f:\n",
    "    cooling_load_model = pickle.load(f)"
   ]
  },
  {
   "cell_type": "code",
   "execution_count": 8,
   "metadata": {},
   "outputs": [
    {
     "name": "stdout",
     "output_type": "stream",
     "text": [
      "['preprocessor__Relative_Compactness' 'preprocessor__Surface_Area'\n",
      " 'preprocessor__Wall_Area' 'preprocessor__Roof_Area'\n",
      " 'preprocessor__Overall_Height' 'preprocessor__Orientation'\n",
      " 'preprocessor__Glazing_Area' 'preprocessor__Glazing_Area_Distribution']\n"
     ]
    }
   ],
   "source": [
    "# Get the feature names assigned by the preprocessor\n",
    "feature_names = preprocessor.get_feature_names_out()\n",
    "\n",
    "# Print the feature names\n",
    "print(feature_names)"
   ]
  },
  {
   "cell_type": "code",
   "execution_count": 10,
   "metadata": {},
   "outputs": [
    {
     "name": "stdout",
     "output_type": "stream",
     "text": [
      "(1, 8)\n",
      "Index(['Relative_Compactness', 'Surface_Area', 'Wall_Area', 'Roof_Area',\n",
      "       'Overall_Height', 'Orientation', 'Glazing_Area',\n",
      "       'Glazing_Area_Distribution'],\n",
      "      dtype='object')\n"
     ]
    }
   ],
   "source": [
    "# Create a DataFrame with the input data\n",
    "data = {\n",
    "    'Relative_Compactness': [0.9],\n",
    "    'Surface_Area': [563.5],\n",
    "    'Wall_Area': [318.5],\n",
    "    'Roof_Area': [122.5],\n",
    "    'Overall_Height': [7.0],\n",
    "    'Orientation': [2],\n",
    "    'Glazing_Area': [0.0],\n",
    "    'Glazing_Area_Distribution': [0]\n",
    "}\n",
    "df = pd.DataFrame(data)\n",
    "\n",
    "# Transform the DataFrame using the preprocessor\n",
    "df_preprocessed = preprocessor.transform(df)\n",
    "\n",
    "# Transform the DataFrame using the preprocessor\n",
    "df_preprocessed = pd.DataFrame(df_preprocessed, columns=df.columns)\n",
    "\n",
    "# Print the shape of the DataFrame\n",
    "print(df_preprocessed.shape)\n",
    "\n",
    "# Print the columns of the DataFrame\n",
    "print(df_preprocessed.columns)"
   ]
  },
  {
   "cell_type": "code",
   "execution_count": 11,
   "metadata": {},
   "outputs": [
    {
     "data": {
      "text/html": [
       "<div>\n",
       "<style scoped>\n",
       "    .dataframe tbody tr th:only-of-type {\n",
       "        vertical-align: middle;\n",
       "    }\n",
       "\n",
       "    .dataframe tbody tr th {\n",
       "        vertical-align: top;\n",
       "    }\n",
       "\n",
       "    .dataframe thead th {\n",
       "        text-align: right;\n",
       "    }\n",
       "</style>\n",
       "<table border=\"1\" class=\"dataframe\">\n",
       "  <thead>\n",
       "    <tr style=\"text-align: right;\">\n",
       "      <th></th>\n",
       "      <th>Relative_Compactness</th>\n",
       "      <th>Surface_Area</th>\n",
       "      <th>Wall_Area</th>\n",
       "      <th>Roof_Area</th>\n",
       "      <th>Overall_Height</th>\n",
       "      <th>Orientation</th>\n",
       "      <th>Glazing_Area</th>\n",
       "      <th>Glazing_Area_Distribution</th>\n",
       "    </tr>\n",
       "  </thead>\n",
       "  <tbody>\n",
       "    <tr>\n",
       "      <th>0</th>\n",
       "      <td>1.016949</td>\n",
       "      <td>-0.818182</td>\n",
       "      <td>0.0</td>\n",
       "      <td>-0.769231</td>\n",
       "      <td>0.5</td>\n",
       "      <td>-1.0</td>\n",
       "      <td>-0.833333</td>\n",
       "      <td>-1.333333</td>\n",
       "    </tr>\n",
       "  </tbody>\n",
       "</table>\n",
       "</div>"
      ],
      "text/plain": [
       "   Relative_Compactness  Surface_Area  Wall_Area  Roof_Area  Overall_Height  \\\n",
       "0              1.016949     -0.818182        0.0  -0.769231             0.5   \n",
       "\n",
       "   Orientation  Glazing_Area  Glazing_Area_Distribution  \n",
       "0         -1.0     -0.833333                  -1.333333  "
      ]
     },
     "execution_count": 11,
     "metadata": {},
     "output_type": "execute_result"
    }
   ],
   "source": [
    "df_preprocessed.head()"
   ]
  },
  {
   "cell_type": "code",
   "execution_count": 12,
   "metadata": {},
   "outputs": [
    {
     "name": "stdout",
     "output_type": "stream",
     "text": [
      "Heating load prediction (in kW): 21.143226913030627\n",
      "Cooling load prediction (in kW): 27.797541333241117\n"
     ]
    }
   ],
   "source": [
    "# Predict the heating load\n",
    "heating_load_prediction = heating_load_model.predict(df_preprocessed)\n",
    "\n",
    "# Print the heating load prediction\n",
    "print('Heating load prediction (in kW): {}'.format(heating_load_prediction[0]))\n",
    "\n",
    "# Predict the cooling load\n",
    "cooling_load_prediction = cooling_load_model.predict(df_preprocessed)\n",
    "\n",
    "# Print the cooling load prediction\n",
    "print('Cooling load prediction (in kW): {}'.format(cooling_load_prediction[0]))"
   ]
  },
  {
   "cell_type": "code",
   "execution_count": null,
   "metadata": {},
   "outputs": [],
   "source": []
  }
 ],
 "metadata": {
  "kernelspec": {
   "display_name": "Python 3",
   "language": "python",
   "name": "python3"
  },
  "language_info": {
   "codemirror_mode": {
    "name": "ipython",
    "version": 3
   },
   "file_extension": ".py",
   "mimetype": "text/x-python",
   "name": "python",
   "nbconvert_exporter": "python",
   "pygments_lexer": "ipython3",
   "version": "3.10.7"
  },
  "orig_nbformat": 4
 },
 "nbformat": 4,
 "nbformat_minor": 2
}
